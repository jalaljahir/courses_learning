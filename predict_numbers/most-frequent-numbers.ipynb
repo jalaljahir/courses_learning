{
 "cells": [
  {
   "cell_type": "markdown",
   "metadata": {},
   "source": [
    "### Find the most popular numbers from lottery history"
   ]
  },
  {
   "cell_type": "markdown",
   "metadata": {},
   "source": [
    "##### inspired by: https://www.youtube.com/watch?v=hPucbi0H1EI"
   ]
  },
  {
   "cell_type": "markdown",
   "metadata": {},
   "source": [
    "#### powerball"
   ]
  },
  {
   "cell_type": "code",
   "execution_count": 68,
   "metadata": {},
   "outputs": [],
   "source": [
    "import pandas as pd\n"
   ]
  },
  {
   "cell_type": "code",
   "execution_count": 69,
   "metadata": {},
   "outputs": [],
   "source": [
    "power_url = r'https://www.texaslottery.com/export/sites/lottery/Games/Powerball/Winning_Numbers/powerball.csv'\n",
    "mega_url = r'https://www.texaslottery.com/export/sites/lottery/Games/Mega_Millions/Winning_Numbers/megamillions.csv'\n"
   ]
  },
  {
   "cell_type": "code",
   "execution_count": 70,
   "metadata": {},
   "outputs": [],
   "source": [
    "# read and save data from url\n",
    "def get_data(url):\n",
    "    df = pd.read_csv(url, header=None)\n",
    "    df = df.iloc[:,:-1]\n",
    "    df.columns = ['type', 'month', 'day', 'year', 'num1', 'num2','num3','num4','num5','num6']\n",
    "    df['download_time'] = pd.Timestamp.today(tz='America/Chicago').strftime('%Y-%m-%d, %I:%M:%S %p %Z')\n",
    "    df['date'] = pd.to_datetime(dict(year=df.year, month=df.month, day=df.day))\n",
    "    df = df.reindex(columns=['type', 'date', 'num1', 'num2','num3','num4','num5','num6', 'download_time'])\n",
    "    filename = df['type'].unique()[0]+ '_'+pd.Timestamp.today(tz='America/Chicago').strftime('%Y%m%d')\n",
    "    df.to_csv('./data/'+filename+'.csv', index=False)\n",
    "    return df\n"
   ]
  },
  {
   "cell_type": "code",
   "execution_count": 71,
   "metadata": {},
   "outputs": [],
   "source": [
    "# get data\n",
    "df = get_data(power_url)\n"
   ]
  },
  {
   "cell_type": "code",
   "execution_count": 72,
   "metadata": {},
   "outputs": [
    {
     "data": {
      "text/plain": [
       "1713"
      ]
     },
     "execution_count": 72,
     "metadata": {},
     "output_type": "execute_result"
    }
   ],
   "source": [
    "len(df)\n"
   ]
  },
  {
   "cell_type": "code",
   "execution_count": 73,
   "metadata": {},
   "outputs": [
    {
     "data": {
      "text/html": [
       "<div>\n",
       "<style scoped>\n",
       "    .dataframe tbody tr th:only-of-type {\n",
       "        vertical-align: middle;\n",
       "    }\n",
       "\n",
       "    .dataframe tbody tr th {\n",
       "        vertical-align: top;\n",
       "    }\n",
       "\n",
       "    .dataframe thead th {\n",
       "        text-align: right;\n",
       "    }\n",
       "</style>\n",
       "<table border=\"1\" class=\"dataframe\">\n",
       "  <thead>\n",
       "    <tr style=\"text-align: right;\">\n",
       "      <th></th>\n",
       "      <th>type</th>\n",
       "      <th>date</th>\n",
       "      <th>num1</th>\n",
       "      <th>num2</th>\n",
       "      <th>num3</th>\n",
       "      <th>num4</th>\n",
       "      <th>num5</th>\n",
       "      <th>num6</th>\n",
       "      <th>download_time</th>\n",
       "    </tr>\n",
       "  </thead>\n",
       "  <tbody>\n",
       "    <tr>\n",
       "      <th>0</th>\n",
       "      <td>Powerball</td>\n",
       "      <td>2010-02-03</td>\n",
       "      <td>37</td>\n",
       "      <td>52</td>\n",
       "      <td>22</td>\n",
       "      <td>36</td>\n",
       "      <td>17</td>\n",
       "      <td>24</td>\n",
       "      <td>2024-11-16, 11:54:38 PM CST</td>\n",
       "    </tr>\n",
       "    <tr>\n",
       "      <th>1</th>\n",
       "      <td>Powerball</td>\n",
       "      <td>2010-02-06</td>\n",
       "      <td>22</td>\n",
       "      <td>54</td>\n",
       "      <td>52</td>\n",
       "      <td>14</td>\n",
       "      <td>59</td>\n",
       "      <td>4</td>\n",
       "      <td>2024-11-16, 11:54:38 PM CST</td>\n",
       "    </tr>\n",
       "    <tr>\n",
       "      <th>2</th>\n",
       "      <td>Powerball</td>\n",
       "      <td>2010-02-10</td>\n",
       "      <td>29</td>\n",
       "      <td>8</td>\n",
       "      <td>37</td>\n",
       "      <td>38</td>\n",
       "      <td>5</td>\n",
       "      <td>34</td>\n",
       "      <td>2024-11-16, 11:54:38 PM CST</td>\n",
       "    </tr>\n",
       "    <tr>\n",
       "      <th>3</th>\n",
       "      <td>Powerball</td>\n",
       "      <td>2010-02-13</td>\n",
       "      <td>14</td>\n",
       "      <td>10</td>\n",
       "      <td>40</td>\n",
       "      <td>51</td>\n",
       "      <td>30</td>\n",
       "      <td>1</td>\n",
       "      <td>2024-11-16, 11:54:38 PM CST</td>\n",
       "    </tr>\n",
       "    <tr>\n",
       "      <th>4</th>\n",
       "      <td>Powerball</td>\n",
       "      <td>2010-02-17</td>\n",
       "      <td>36</td>\n",
       "      <td>7</td>\n",
       "      <td>26</td>\n",
       "      <td>8</td>\n",
       "      <td>19</td>\n",
       "      <td>15</td>\n",
       "      <td>2024-11-16, 11:54:38 PM CST</td>\n",
       "    </tr>\n",
       "  </tbody>\n",
       "</table>\n",
       "</div>"
      ],
      "text/plain": [
       "        type       date  num1  num2  num3  num4  num5  num6  \\\n",
       "0  Powerball 2010-02-03    37    52    22    36    17    24   \n",
       "1  Powerball 2010-02-06    22    54    52    14    59     4   \n",
       "2  Powerball 2010-02-10    29     8    37    38     5    34   \n",
       "3  Powerball 2010-02-13    14    10    40    51    30     1   \n",
       "4  Powerball 2010-02-17    36     7    26     8    19    15   \n",
       "\n",
       "                 download_time  \n",
       "0  2024-11-16, 11:54:38 PM CST  \n",
       "1  2024-11-16, 11:54:38 PM CST  \n",
       "2  2024-11-16, 11:54:38 PM CST  \n",
       "3  2024-11-16, 11:54:38 PM CST  \n",
       "4  2024-11-16, 11:54:38 PM CST  "
      ]
     },
     "execution_count": 73,
     "metadata": {},
     "output_type": "execute_result"
    }
   ],
   "source": [
    "df.head()\n"
   ]
  },
  {
   "cell_type": "code",
   "execution_count": 74,
   "metadata": {},
   "outputs": [],
   "source": [
    "cols = ['num1', 'num2','num3','num4','num5']\n",
    "allrecords = df[cols].values.tolist()\n",
    "num6 = list(df.num6)\n"
   ]
  },
  {
   "cell_type": "code",
   "execution_count": 75,
   "metadata": {},
   "outputs": [
    {
     "name": "stdout",
     "output_type": "stream",
     "text": [
      "Powerball most frequent nubers: 39 36 32 21 23 24\n"
     ]
    }
   ],
   "source": [
    "single_occurence = {}\n",
    "regular_occurence = {}\n",
    "\n",
    "for record in allrecords:\n",
    "    for regnum in record:\n",
    "        if regnum in regular_occurence:\n",
    "            occurence = regular_occurence[regnum]\n",
    "            occurence += 1\n",
    "            regular_occurence[regnum] = occurence\n",
    "        else:\n",
    "            regular_occurence[regnum] = 1\n",
    "\n",
    "for pnum in num6:\n",
    "    if pnum in single_occurence:\n",
    "        occurence = single_occurence[pnum]\n",
    "        occurence += 1\n",
    "        single_occurence[pnum] = occurence\n",
    "    else:\n",
    "        single_occurence[pnum] = 1\n",
    "\n",
    "\n",
    "# print(regular_occurence)\n",
    "# regular_occurence_sorted = sorted(regular_occurence.items(), key= lambda x:x[1])\n",
    "regular_occurence_sorted = sorted(regular_occurence.items(), key= lambda x:x[1], reverse = True)\n",
    "single_occurence_sorted = sorted(single_occurence.items(), key = lambda x:x[1], reverse = True)\n",
    "# single_occurence_sorted \n",
    "# regular_occurence_sorted\n",
    "\n",
    "# create a list of numbers sorted based on occurence\n",
    "regular_by_occurence = list(map(lambda x: x[0], regular_occurence_sorted ))\n",
    "single_by_occurence = list(map(lambda x: x[0], single_occurence_sorted))\n",
    "\n",
    "\n",
    "# single_by_occurence[:1][0]\n",
    "regular_by_occurence[:5]\n",
    "\n",
    "winningTicket = ' '.join(map(str, regular_by_occurence[:5] + single_by_occurence[:1]))\n",
    "print(f'Powerball most frequent nubers: {winningTicket}')\n"
   ]
  },
  {
   "cell_type": "markdown",
   "metadata": {},
   "source": [
    "#### mega"
   ]
  },
  {
   "cell_type": "code",
   "execution_count": 76,
   "metadata": {},
   "outputs": [],
   "source": [
    "# get data\n",
    "df = get_data(mega_url)\n"
   ]
  },
  {
   "cell_type": "code",
   "execution_count": 77,
   "metadata": {},
   "outputs": [
    {
     "data": {
      "text/plain": [
       "(2187,\n",
       "             type       date  num1  num2  num3  num4  num5  num6  \\\n",
       " 0  Mega Millions 2003-12-05    12    44    15    18     1    42   \n",
       " 1  Mega Millions 2003-12-09    14    15    48     4    24    41   \n",
       " 2  Mega Millions 2003-12-12    16    32    46     9    45    26   \n",
       " 3  Mega Millions 2003-12-16    47    16    31    24    46    47   \n",
       " 4  Mega Millions 2003-12-19     5    10    39    17    35    38   \n",
       " \n",
       "                  download_time  \n",
       " 0  2024-11-16, 11:54:38 PM CST  \n",
       " 1  2024-11-16, 11:54:38 PM CST  \n",
       " 2  2024-11-16, 11:54:38 PM CST  \n",
       " 3  2024-11-16, 11:54:38 PM CST  \n",
       " 4  2024-11-16, 11:54:38 PM CST  )"
      ]
     },
     "execution_count": 77,
     "metadata": {},
     "output_type": "execute_result"
    }
   ],
   "source": [
    "len(df), df.head()\n"
   ]
  },
  {
   "cell_type": "code",
   "execution_count": 78,
   "metadata": {},
   "outputs": [],
   "source": [
    "cols = ['num1', 'num2','num3','num4','num5']\n",
    "allrecords = df[cols].values.tolist()\n",
    "num6 = list(df.num6)\n"
   ]
  },
  {
   "cell_type": "code",
   "execution_count": 79,
   "metadata": {},
   "outputs": [
    {
     "name": "stdout",
     "output_type": "stream",
     "text": [
      "Megamillion most frequent nubers: 17 10 31 20 14 9\n"
     ]
    }
   ],
   "source": [
    "single_occurence = {}\n",
    "regular_occurence = {}\n",
    "\n",
    "for record in allrecords:\n",
    "    for regnum in record:\n",
    "        if regnum in regular_occurence:\n",
    "            occurence = regular_occurence[regnum]\n",
    "            occurence += 1\n",
    "            regular_occurence[regnum] = occurence\n",
    "        else:\n",
    "            regular_occurence[regnum] = 1\n",
    "\n",
    "for pnum in num6:\n",
    "    if pnum in single_occurence:\n",
    "        occurence = single_occurence[pnum]\n",
    "        occurence += 1\n",
    "        single_occurence[pnum] = occurence\n",
    "    else:\n",
    "        single_occurence[pnum] = 1\n",
    "\n",
    "\n",
    "# print(regular_occurence)\n",
    "# regular_occurence_sorted = sorted(regular_occurence.items(), key= lambda x:x[1])\n",
    "regular_occurence_sorted = sorted(regular_occurence.items(), key= lambda x:x[1], reverse = True)\n",
    "single_occurence_sorted = sorted(single_occurence.items(), key = lambda x:x[1], reverse = True)\n",
    "# single_occurence_sorted \n",
    "# regular_occurence_sorted\n",
    "\n",
    "# create a list of numbers sorted based on occurence\n",
    "regular_by_occurence = list(map(lambda x: x[0], regular_occurence_sorted ))\n",
    "single_by_occurence = list(map(lambda x: x[0], single_occurence_sorted))\n",
    "\n",
    "\n",
    "# single_by_occurence[:1][0]\n",
    "regular_by_occurence[:5]\n",
    "\n",
    "winningTicket = ' '.join(map(str, regular_by_occurence[:5] + single_by_occurence[:1]))\n",
    "\n",
    "print(f'Megamillion most frequent nubers: {winningTicket}')\n"
   ]
  }
 ],
 "metadata": {
  "kernelspec": {
   "display_name": "base31106",
   "language": "python",
   "name": "python3"
  },
  "language_info": {
   "codemirror_mode": {
    "name": "ipython",
    "version": 3
   },
   "file_extension": ".py",
   "mimetype": "text/x-python",
   "name": "python",
   "nbconvert_exporter": "python",
   "pygments_lexer": "ipython3",
   "version": "3.11.6"
  }
 },
 "nbformat": 4,
 "nbformat_minor": 2
}
