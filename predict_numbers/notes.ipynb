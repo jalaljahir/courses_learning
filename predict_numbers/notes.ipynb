{
 "cells": [
  {
   "cell_type": "markdown",
   "metadata": {},
   "source": [
    "AI Lottery Prediction: A Deep Dive into Machine Learning Models, Methodologies, and Quantum Computing\n",
    "\n",
    "https://medium.com/@contact_68248/ai-lottery-prediction-a-deep-dive-into-machine-learning-models-methodologies-and-quantum-a1c0ac2f7eb9\n",
    "\n",
    "https://github.com/yangboz/LotteryPrediction/blob/master/test20230317.py\n"
   ]
  },
  {
   "cell_type": "markdown",
   "metadata": {},
   "source": [
    "tensorflow, keras example:\n",
    "\n",
    "https://github.com/CorvusCodex/LotteryAi/tree/main\n"
   ]
  },
  {
   "cell_type": "markdown",
   "metadata": {},
   "source": [
    "gradient boosting example\n",
    "\n",
    "https://medium.com/@larry.prestosa/gradient-boosting-prediction-of-the-powerball-89b0f4a66999\n"
   ]
  },
  {
   "cell_type": "markdown",
   "metadata": {},
   "source": [
    "LSTM example\n",
    "\n",
    "Predict Lottery Numbers using Artificial Intelligent Neural Network: https://www.youtube.com/watch?v=vN_EuIfD42g\n",
    "\n",
    "\n",
    "Bidirectional LSTM For Sequence Classification in Python with Keras \n",
    "(https://machinelearningmastery.com/develop-bidirectional-lstm-sequence-classification-python-keras/)\n",
    "\n",
    "\n"
   ]
  },
  {
   "cell_type": "markdown",
   "metadata": {},
   "source": [
    "How to Guess Accurately 3 Lottery Numbers Out of 6 using LSTM Model\n",
    "\n",
    "https://medium.com/@polanitzer/how-to-guess-accurately-3-lottery-numbers-out-of-6-using-lstm-model-e148d1c632d6\n",
    "\n",
    "https://github.com/TimeSerieser/How-to-Guess-Accurately-3-Lottery-Numbers-Out-of-6-using-LSTM/blob/main/Israeli%20Lottery.ipynb"
   ]
  },
  {
   "cell_type": "markdown",
   "metadata": {},
   "source": []
  },
  {
   "cell_type": "markdown",
   "metadata": {},
   "source": []
  },
  {
   "cell_type": "markdown",
   "metadata": {},
   "source": []
  }
 ],
 "metadata": {
  "language_info": {
   "name": "python"
  }
 },
 "nbformat": 4,
 "nbformat_minor": 2
}
