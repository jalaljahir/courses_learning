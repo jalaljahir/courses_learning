{
 "cells": [
  {
   "cell_type": "markdown",
   "metadata": {},
   "source": [
    "## Build an AI web app by using Python and Flask\n",
    "https://learn.microsoft.com/en-us/training/modules/python-flask-build-ai-web-app/"
   ]
  },
  {
   "cell_type": "markdown",
   "metadata": {},
   "source": [
    "### Introduction\n",
    "https://learn.microsoft.com/en-us/training/modules/python-flask-build-ai-web-app/0-introduction"
   ]
  },
  {
   "cell_type": "markdown",
   "metadata": {},
   "source": [
    "### Exercise - Set up a development environment\n",
    "https://learn.microsoft.com/en-us/training/modules/python-flask-build-ai-web-app/1-exercise-set-up-environment"
   ]
  },
  {
   "cell_type": "markdown",
   "metadata": {},
   "source": [
    "### Flask fundamentals\n",
    "https://learn.microsoft.com/en-us/training/modules/python-flask-build-ai-web-app/2-flask-fundamentals"
   ]
  },
  {
   "cell_type": "markdown",
   "metadata": {},
   "source": [
    "Responding to user requests with routes<br>\n",
    "starting with the /. The portion after the domain name is what's known as a route. A route is a path to an action.<br>\n",
    "<br>\n",
    "Methods or verbs: GET & POST.<br>\n",
    "<br>\n",
    "Templates: HTML (Hypertext Markup Language), jinja & CSS (Cascadig Style Sheets)<br>"
   ]
  },
  {
   "cell_type": "code",
   "execution_count": 1,
   "metadata": {},
   "outputs": [
    {
     "ename": "SyntaxError",
     "evalue": "invalid syntax (1286514051.py, line 1)",
     "output_type": "error",
     "traceback": [
      "\u001b[1;36m  Cell \u001b[1;32mIn[1], line 1\u001b[1;36m\u001b[0m\n\u001b[1;33m    <h1>Welcome, {{ name }}</h1>\u001b[0m\n\u001b[1;37m    ^\u001b[0m\n\u001b[1;31mSyntaxError\u001b[0m\u001b[1;31m:\u001b[0m invalid syntax\n"
     ]
    }
   ],
   "source": [
    "\n",
    "\n",
    "# <h1>Welcome, {{ name }}</h1>\n"
   ]
  }
 ],
 "metadata": {
  "kernelspec": {
   "display_name": "mslearn_py31106",
   "language": "python",
   "name": "python3"
  },
  "language_info": {
   "codemirror_mode": {
    "name": "ipython",
    "version": 3
   },
   "file_extension": ".py",
   "mimetype": "text/x-python",
   "name": "python",
   "nbconvert_exporter": "python",
   "pygments_lexer": "ipython3",
   "version": "3.11.6"
  }
 },
 "nbformat": 4,
 "nbformat_minor": 2
}
