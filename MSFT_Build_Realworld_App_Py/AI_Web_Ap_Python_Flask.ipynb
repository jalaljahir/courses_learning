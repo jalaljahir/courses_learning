{
 "cells": [
  {
   "cell_type": "markdown",
   "metadata": {},
   "source": [
    "## Build an AI web app by using Python and Flask\n",
    "https://learn.microsoft.com/en-us/training/modules/python-flask-build-ai-web-app/"
   ]
  },
  {
   "cell_type": "markdown",
   "metadata": {},
   "source": [
    "### Introduction\n",
    "https://learn.microsoft.com/en-us/training/modules/python-flask-build-ai-web-app/0-introduction"
   ]
  },
  {
   "cell_type": "markdown",
   "metadata": {},
   "source": [
    "### Exercise - Set up a development environment\n",
    "https://learn.microsoft.com/en-us/training/modules/python-flask-build-ai-web-app/1-exercise-set-up-environment"
   ]
  },
  {
   "cell_type": "markdown",
   "metadata": {},
   "source": [
    "### Flask fundamentals\n",
    "https://learn.microsoft.com/en-us/training/modules/python-flask-build-ai-web-app/2-flask-fundamentals"
   ]
  },
  {
   "cell_type": "markdown",
   "metadata": {},
   "source": [
    "Responding to user requests with routes<br>\n",
    "starting with the /. The portion after the domain name is what's known as a route. A route is a path to an action.<br>\n",
    "<br>\n",
    "Methods or verbs: GET & POST.<br>\n",
    "<br>\n",
    "Templates: HTML (Hypertext Markup Language), jinja & CSS (Cascadig Style Sheets)<br>"
   ]
  },
  {
   "cell_type": "markdown",
   "metadata": {},
   "source": [
    "### Exercise - Create an app\n",
    "https://learn.microsoft.com/en-us/training/modules/python-flask-build-ai-web-app/3-exercise-create-app"
   ]
  },
  {
   "cell_type": "markdown",
   "metadata": {},
   "source": [
    "See app.py and the contoso_test folder"
   ]
  },
  {
   "cell_type": "markdown",
   "metadata": {},
   "source": [
    "#### Create core application\n",
    "#### Add the route\n",
    "#### Create the HTML template for our form\n",
    "Jinja, the templating engine for Flask, focuses quite heavily on HTML. As a result, we can use all the existing HTML skills and tools we already have. We're going to use Bootstrap to lay out our page, to make it a little prettier. By using Bootstrap, we'll use different CSS classes on our HTML. If you're not familiar with Bootstrap, you can ignore the classes and focus on the HTML (which is really the important part).<br>\n",
    "Bootstrap (https://getbootstrap.com/)\n",
    "\n",
    "HTML (Hypertext Markup Language) is a standard markup language used to create web pages. HTML consists of a series of tags and attributes to create headings, paragraphs, lists, images, links, and other elements that make up a web page. When a user requests a web page, their browser reads the HTML code and renders it as a visual web page that the user can interact with. To learn more about HTML, see HTML basics.<br>\n",
    "https://developer.mozilla.org/en-US/docs/Learn/Getting_started_with_the_web/HTML_basics\n"
   ]
  },
  {
   "cell_type": "markdown",
   "metadata": {},
   "source": [
    "### Translation\n",
    "https://learn.microsoft.com/en-us/training/modules/python-flask-build-ai-web-app/4-translation\n",
    "Translator service\n",
    "\n",
    "Key management<br>\n",
    "One great solution for protecting the key when doing development work is to use a library called python-dotenv, commonly called dotenv. When using dotenv, we create a file named .env, which contains any key/value pairs we don't want as part of our source code. We'll ensure that the file is listed in our gitignore file when we push our code to GitHub, so that we don't accidentally publish it for the world to see.<br>\n",
    "dotenv (https://github.com/theskumar/python-dotenv)\n",
    "\n"
   ]
  },
  {
   "cell_type": "markdown",
   "metadata": {},
   "source": [
    "### Create Translator service\n",
    "https://learn.microsoft.com/en-us/training/modules/python-flask-build-ai-web-app/5-exercise-create-translator-service\n",
    "\n",
    "Get Translator service key<br>\n",
    "Create .env file to store the key"
   ]
  },
  {
   "cell_type": "markdown",
   "metadata": {},
   "source": [
    "### Exercise - Call Translator service\n",
    "https://learn.microsoft.com/en-us/training/modules/python-flask-build-ai-web-app/6-exercise-call-translator\n",
    "\n",
    "Add code to call the service<br>\n",
    "Create the template to display results<br>\n",
    "Test our application<br>"
   ]
  }
 ],
 "metadata": {
  "kernelspec": {
   "display_name": "mslearn_py31106",
   "language": "python",
   "name": "python3"
  },
  "language_info": {
   "codemirror_mode": {
    "name": "ipython",
    "version": 3
   },
   "file_extension": ".py",
   "mimetype": "text/x-python",
   "name": "python",
   "nbconvert_exporter": "python",
   "pygments_lexer": "ipython3",
   "version": "3.11.6"
  }
 },
 "nbformat": 4,
 "nbformat_minor": 2
}
