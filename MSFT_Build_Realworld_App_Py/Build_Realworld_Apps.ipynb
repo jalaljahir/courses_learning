{
 "cells": [
  {
   "cell_type": "markdown",
   "metadata": {},
   "source": [
    "## Build Real World Applications\n",
    "https://learn.microsoft.com/en-us/training/paths/python-language/?tab=tab-started"
   ]
  },
  {
   "cell_type": "markdown",
   "metadata": {},
   "source": [
    "### Introduction to Python\n",
    "https://learn.microsoft.com/en-us/training/modules/intro-to-python/"
   ]
  },
  {
   "cell_type": "markdown",
   "metadata": {},
   "source": [
    "#### Introduction\n",
    "https://learn.microsoft.com/en-us/training/modules/intro-to-python/1-introduction"
   ]
  },
  {
   "cell_type": "markdown",
   "metadata": {},
   "source": [
    "#### What is Python\n",
    "https://learn.microsoft.com/en-us/training/modules/intro-to-python/2-what-is-python"
   ]
  },
  {
   "cell_type": "markdown",
   "metadata": {},
   "source": [
    "#### Use the REPL\n",
    "https://learn.microsoft.com/en-us/training/modules/intro-to-python/3-repl"
   ]
  },
  {
   "cell_type": "markdown",
   "metadata": {},
   "source": [
    "#### Variables and basic data types in Python\n",
    "https://learn.microsoft.com/en-us/training/modules/intro-to-python/4-variables"
   ]
  },
  {
   "cell_type": "markdown",
   "metadata": {},
   "source": [
    "#### Exercise - Output\n",
    "https://learn.microsoft.com/en-us/training/modules/intro-to-python/5-exercise-output"
   ]
  },
  {
   "cell_type": "markdown",
   "metadata": {},
   "source": [
    "#### Reading keyboard input\n",
    "https://learn.microsoft.com/en-us/training/modules/intro-to-python/6-input\n"
   ]
  },
  {
   "cell_type": "code",
   "execution_count": 1,
   "metadata": {},
   "outputs": [
    {
     "name": "stdout",
     "output_type": "stream",
     "text": [
      "Jalal\n"
     ]
    }
   ],
   "source": [
    "name = input('enter your name')\n",
    "print (name)\n"
   ]
  },
  {
   "cell_type": "code",
   "execution_count": 2,
   "metadata": {},
   "outputs": [
    {
     "name": "stdout",
     "output_type": "stream",
     "text": [
      "What is your name?\n",
      "Jalal\n"
     ]
    }
   ],
   "source": [
    "print('What is your name?')\n",
    "name = input()\n",
    "print(name)\n"
   ]
  },
  {
   "cell_type": "markdown",
   "metadata": {},
   "source": [
    "Reading numbers as input"
   ]
  },
  {
   "cell_type": "code",
   "execution_count": 3,
   "metadata": {},
   "outputs": [
    {
     "name": "stdout",
     "output_type": "stream",
     "text": [
      "<class 'str'>\n"
     ]
    }
   ],
   "source": [
    "x = input('Enter a number')\n",
    "print(type(x))\n"
   ]
  },
  {
   "cell_type": "code",
   "execution_count": 4,
   "metadata": {},
   "outputs": [
    {
     "name": "stdout",
     "output_type": "stream",
     "text": [
      "<class 'int'>\n"
     ]
    }
   ],
   "source": [
    "x = int(input('Enter a number: '))\n",
    "print(type(x))\n"
   ]
  },
  {
   "cell_type": "markdown",
   "metadata": {},
   "source": [
    "Converting numbers to strings"
   ]
  },
  {
   "cell_type": "code",
   "execution_count": 5,
   "metadata": {},
   "outputs": [
    {
     "name": "stdout",
     "output_type": "stream",
     "text": [
      "The number is 5\n"
     ]
    }
   ],
   "source": [
    "x = 5\n",
    "print('The number is ' + str(x))\n"
   ]
  },
  {
   "cell_type": "code",
   "execution_count": null,
   "metadata": {},
   "outputs": [],
   "source": []
  },
  {
   "cell_type": "markdown",
   "metadata": {},
   "source": [
    "#### Build a calculator\n",
    "https://learn.microsoft.com/en-us/training/modules/intro-to-python/7-exercise-input"
   ]
  },
  {
   "cell_type": "code",
   "execution_count": 9,
   "metadata": {},
   "outputs": [
    {
     "name": "stdout",
     "output_type": "stream",
     "text": [
      "The sum is:  1100\n"
     ]
    }
   ],
   "source": [
    "first_number = int(input('Type the first number: '))\n",
    "second_number = int(input('Type the second number: '))\n",
    "# print('The sum is: ' + str(first_number+second_number))\n",
    "print('The sum is: ', first_number+second_number)\n"
   ]
  },
  {
   "cell_type": "markdown",
   "metadata": {},
   "source": [
    "### Introduction to object-oriented programming with Python\n",
    "https://learn.microsoft.com/en-us/training/modules/python-object-oriented-programming/"
   ]
  },
  {
   "cell_type": "markdown",
   "metadata": {},
   "source": [
    "#### Introduction\n",
    "https://learn.microsoft.com/en-us/training/modules/python-object-oriented-programming/1-introduction"
   ]
  },
  {
   "cell_type": "markdown",
   "metadata": {},
   "source": [
    "#### What is object-oriented programming?\n",
    "https://learn.microsoft.com/en-us/training/modules/python-object-oriented-programming/2-what-is-oop"
   ]
  },
  {
   "cell_type": "markdown",
   "metadata": {},
   "source": [
    "#### Use classes and variables to transfer your OOP model into code\n",
    "https://learn.microsoft.com/en-us/training/modules/python-object-oriented-programming/3-model-your-game"
   ]
  },
  {
   "cell_type": "markdown",
   "metadata": {},
   "source": [
    "Create a class"
   ]
  },
  {
   "cell_type": "code",
   "execution_count": null,
   "metadata": {},
   "outputs": [],
   "source": [
    "class car:\n",
    "    "
   ]
  },
  {
   "cell_type": "code",
   "execution_count": 11,
   "metadata": {},
   "outputs": [],
   "source": [
    "# car = car()\n"
   ]
  },
  {
   "cell_type": "markdown",
   "metadata": {},
   "source": [
    "Add and initialize attributes on a class"
   ]
  },
  {
   "cell_type": "code",
   "execution_count": 12,
   "metadata": {},
   "outputs": [],
   "source": [
    "class Elevator:\n",
    "    def __init__(self, starting_floor):\n",
    "        self.make = 'The elevator company'\n",
    "        self.floor = starting_floor\n",
    "\n",
    "# to create the object\n",
    "elevator = Elevator(5)\n"
   ]
  },
  {
   "cell_type": "code",
   "execution_count": 14,
   "metadata": {},
   "outputs": [
    {
     "name": "stdout",
     "output_type": "stream",
     "text": [
      "The elevator company\n"
     ]
    }
   ],
   "source": [
    "print(elevator.make)\n"
   ]
  },
  {
   "cell_type": "code",
   "execution_count": 15,
   "metadata": {},
   "outputs": [
    {
     "name": "stdout",
     "output_type": "stream",
     "text": [
      "5\n"
     ]
    }
   ],
   "source": [
    "print(elevator.floor)\n"
   ]
  },
  {
   "cell_type": "code",
   "execution_count": 20,
   "metadata": {},
   "outputs": [],
   "source": [
    "class Car1:\n",
    "    def __init__(self):\n",
    "        self.color = 'Red'\n",
    "        self.make = 'Mercedes'\n",
    " "
   ]
  },
  {
   "cell_type": "code",
   "execution_count": 21,
   "metadata": {},
   "outputs": [],
   "source": [
    "car1 = Car1()\n"
   ]
  },
  {
   "cell_type": "code",
   "execution_count": 22,
   "metadata": {},
   "outputs": [
    {
     "data": {
      "text/plain": [
       "('Red', 'Mercedes')"
      ]
     },
     "execution_count": 22,
     "metadata": {},
     "output_type": "execute_result"
    }
   ],
   "source": [
    "car1.color, car1.make\n"
   ]
  },
  {
   "cell_type": "code",
   "execution_count": null,
   "metadata": {},
   "outputs": [],
   "source": []
  },
  {
   "cell_type": "markdown",
   "metadata": {},
   "source": [
    "#### Exercise - Model and scaffold your game\n",
    "https://learn.microsoft.com/en-us/training/modules/python-object-oriented-programming/4-exercise-model-your-game\n",
    "\n",
    "A game is no different from the invoice system mentioned in a previous unit. It still has the same parts in the world of object-oriented programming (OOP). These parts are objects, data, and behavior. Just like we did with the invoice system, you can model a game like rock, paper, scissors by first describing its domain, and then try listing what's what. Modeling your game is what you're going to do next. You'll also write some code that you can build on later."
   ]
  },
  {
   "cell_type": "markdown",
   "metadata": {},
   "source": [
    "Problem description\n",
    "\n",
    "Rock, paper, scissors is a game played by two participants. The game consists of rounds. In each round, a participant chooses a symbol from rock, paper, or scissors, and the other participant does the same. Then a winner of the round is determined by comparing the chosen symbols. The rules of the game state that rock wins over scissors, scissors beats (cuts) paper, and paper beats (covers) rock. The winner of the round is awarded a point. The game goes on for as many rounds as the participants agree on. The winner is the participant with the most points.\n",
    "\n",
    "game\n",
    "\n",
    "participants\n",
    "\n",
    "rounds\n",
    "\n",
    "rock, paper, scissor\n",
    "\n",
    "rules\n",
    "\n",
    "point"
   ]
  },
  {
   "attachments": {
    "image.png": {
     "image/png": "[encoded data removed]"
    }
   },
   "cell_type": "markdown",
   "metadata": {},
   "source": [
    "![image.png](attachment:image.png)"
   ]
  },
  {
   "cell_type": "code",
   "execution_count": null,
   "metadata": {},
   "outputs": [],
   "source": [
    "class Participants:\n",
    "    def __init__(self):\n",
    "        self.point = 0\n",
    "        self.choice = ''\n",
    "\n",
    "# class GameRound:\n",
    "\n",
    "class Game:\n",
    "    def __init__(self):\n",
    "        self.endgame = False\n",
    "        self.participant = Participants()\n",
    "        self.secondParticipant = Participants()\n"
   ]
  },
  {
   "cell_type": "markdown",
   "metadata": {},
   "source": [
    "#### Add behavior with methods\n",
    "https://learn.microsoft.com/en-us/training/modules/python-object-oriented-programming/5-game-transitions-with-methods"
   ]
  },
  {
   "cell_type": "markdown",
   "metadata": {},
   "source": [
    "*Methods* in **OOP**\n",
    "\n",
    "Enternal methods <br>\n",
    "Internal methods\n",
    "\n",
    "**Encapsulation: Protect your data**"
   ]
  },
  {
   "cell_type": "code",
   "execution_count": 23,
   "metadata": {},
   "outputs": [],
   "source": [
    "class Square:\n",
    "    def __init__(self):\n",
    "        self.height = 2\n",
    "        self.width = 2\n",
    "    def set_side(self, new_side):\n",
    "        self.height = new_side\n",
    "        self.width = new_side\n"
   ]
  },
  {
   "cell_type": "code",
   "execution_count": 24,
   "metadata": {},
   "outputs": [
    {
     "data": {
      "text/plain": [
       "(2, 2)"
      ]
     },
     "execution_count": 24,
     "metadata": {},
     "output_type": "execute_result"
    }
   ],
   "source": [
    "square = Square()\n",
    "square.height , square.width\n"
   ]
  },
  {
   "cell_type": "code",
   "execution_count": 25,
   "metadata": {},
   "outputs": [
    {
     "data": {
      "text/plain": [
       "(3, 2)"
      ]
     },
     "execution_count": 25,
     "metadata": {},
     "output_type": "execute_result"
    }
   ],
   "source": [
    "square.height = 3\n",
    "square.height , square.width\n"
   ]
  },
  {
   "cell_type": "markdown",
   "metadata": {},
   "source": [
    "**Access levels**<br>\n",
    "The way Python accomplishes data hiding is by adding prefixes to attribute names. **One leading underscore, _,** is a message to the outside world that this data probably shouldn't be touched.\n",
    "\n"
   ]
  },
  {
   "cell_type": "code",
   "execution_count": 26,
   "metadata": {},
   "outputs": [],
   "source": [
    "class Square:\n",
    "    def __init__(self):\n",
    "        self._height = 2\n",
    "        self._width = 2\n",
    "    def set_side(self, new_side):\n",
    "        self._height = new_side\n",
    "        self._width = new_side\n",
    "\n",
    "square = Square()\n",
    "square._height = 3 # not a square anymore\n"
   ]
  },
  {
   "cell_type": "markdown",
   "metadata": {},
   "source": [
    "One leading underscore still allows for data to be modified, which Python refers to as protected. Can we do this better? Yes we can, by having **two leading underscores, __,** which is referred to as *private*. "
   ]
  },
  {
   "cell_type": "code",
   "execution_count": 47,
   "metadata": {},
   "outputs": [],
   "source": [
    "class Square:\n",
    "    def __init__(self):\n",
    "        self.__height = 2\n",
    "        self.__width = 2\n",
    "    def set_side(self, new_side):\n",
    "        self.__height = new_side\n",
    "        self.__width = new_side\n"
   ]
  },
  {
   "cell_type": "code",
   "execution_count": 49,
   "metadata": {},
   "outputs": [],
   "source": [
    "square = Square()\n",
    "square.__height = 3 # raises AttributeError\n",
    "# square.__height , square.__width\n"
   ]
  },
  {
   "cell_type": "code",
   "execution_count": 42,
   "metadata": {},
   "outputs": [
    {
     "data": {
      "text/plain": [
       "3"
      ]
     },
     "execution_count": 42,
     "metadata": {},
     "output_type": "execute_result"
    }
   ],
   "source": [
    "square.__height\n"
   ]
  },
  {
   "cell_type": "code",
   "execution_count": 44,
   "metadata": {},
   "outputs": [],
   "source": [
    "square.__width= 5\n"
   ]
  },
  {
   "cell_type": "code",
   "execution_count": 45,
   "metadata": {},
   "outputs": [
    {
     "data": {
      "text/plain": [
       "5"
      ]
     },
     "execution_count": 45,
     "metadata": {},
     "output_type": "execute_result"
    }
   ],
   "source": [
    "square.__width\n"
   ]
  },
  {
   "cell_type": "markdown",
   "metadata": {},
   "source": [
    "**Mastering Private and Protected Fields in Python Classes: A Complete Tutorial (44/100 Days of Python)**\n",
    "\n",
    "https://martinxpn.medium.com/mastering-private-and-protected-fields-in-python-classes-a-complete-tutorial-44-100-days-of-c4a2017e3012"
   ]
  },
  {
   "cell_type": "code",
   "execution_count": 56,
   "metadata": {},
   "outputs": [],
   "source": [
    "class Person:\n",
    "    def __init__(self, name, age):\n",
    "        self.__private_attribute = 'This is a private attribute.'\n",
    "        self.name = name\n",
    "        self.age = age\n",
    "\n",
    "person = Person('John Doe', 30)\n",
    "# print(person.__private_attribute)  # AttributeError: 'Person' object has no attribute '__private_attribute'\n"
   ]
  },
  {
   "cell_type": "code",
   "execution_count": 58,
   "metadata": {},
   "outputs": [],
   "source": [
    "person.__private_attribute = 'how?'\n"
   ]
  },
  {
   "cell_type": "markdown",
   "metadata": {},
   "source": [
    "**What are getters and setters?**<br>\n",
    "Getters and setters, which are also known as accessors and mutators, are methods dedicated to reading or changing your data. Getters play the part of making your inner data readable to the outside, which doesn't sound so bad, does it? Setters are methods that can change your data directly. The idea is for a setter to act as a guard so that a bad value can't be set."
   ]
  },
  {
   "cell_type": "code",
   "execution_count": 5,
   "metadata": {},
   "outputs": [],
   "source": [
    "class Square:\n",
    "    def __init__(self):\n",
    "        self.__height = 2\n",
    "        self.__width = 2\n",
    "    def set_side(self, new_side):\n",
    "        self.__height = new_side\n",
    "        self.__width = new_side\n",
    "    def get_height(self):\n",
    "        return self.__height\n",
    "    def set_height(self, h):\n",
    "        if h >= 0:\n",
    "            self.__height = h\n",
    "        else:\n",
    "            raise Exception(\"value needs to be 0 or larger\")\n"
   ]
  },
  {
   "cell_type": "code",
   "execution_count": 10,
   "metadata": {},
   "outputs": [],
   "source": [
    "square2 = Square()\n",
    "square2.__height = 5 # raises AttributeError\n"
   ]
  },
  {
   "cell_type": "code",
   "execution_count": 11,
   "metadata": {},
   "outputs": [
    {
     "data": {
      "text/plain": [
       "5"
      ]
     },
     "execution_count": 11,
     "metadata": {},
     "output_type": "execute_result"
    }
   ],
   "source": [
    "square2.__height\n"
   ]
  },
  {
   "cell_type": "markdown",
   "metadata": {},
   "source": [
    "**Use decorators for getters and setters**"
   ]
  },
  {
   "cell_type": "code",
   "execution_count": 12,
   "metadata": {},
   "outputs": [],
   "source": [
    "class Square:\n",
    "    def __init__(self, w, h):\n",
    "        self.__height = h\n",
    "        self.__width = w\n",
    "  \n",
    "    def set_side(self, new_side):\n",
    "        self.__height = new_side\n",
    "        self.__width = new_side\n",
    "\n",
    "    @property\n",
    "    def height(self):\n",
    "        return self.__height\n",
    "\n",
    "    @height.setter\n",
    "    def height(self, new_value):\n",
    "        if new_value >= 0:\n",
    "            self.__height = new_value\n",
    "        else:\n",
    "            raise Exception(\"Value must be larger than 0\")\n"
   ]
  },
  {
   "cell_type": "markdown",
   "metadata": {},
   "source": [
    "In the preceding code, the function height() is decorated by the decorator @property. This decoration action creates the private field __height. The __height field isn't defined in the constructor __init__() because the decorator does that already. There's also another decoration happening, namely, @height.setter. This decoration points out a similar-looking height() method as the setter. The new height method takes on another parameter value as its second parameter.\n",
    "\n",
    "Being able to manipulate the height separate from the width will still cause a problem. You'll need to understand what the class does before you consider allowing getters and setters, because you're introducing risk."
   ]
  },
  {
   "cell_type": "markdown",
   "metadata": {},
   "source": [
    "#### Add behavior to your game\n",
    "https://learn.microsoft.com/en-us/training/modules/python-object-oriented-programming/6-exercise-game-transitions-with-methods"
   ]
  },
  {
   "cell_type": "markdown",
   "metadata": {},
   "source": [
    "Implement behavior"
   ]
  },
  {
   "attachments": {
    "image.png": {
     "image/png": "[encoded data removed]"
    }
   },
   "cell_type": "markdown",
   "metadata": {},
   "source": [
    "![image.png](attachment:image.png)"
   ]
  },
  {
   "cell_type": "code",
   "execution_count": 17,
   "metadata": {},
   "outputs": [],
   "source": [
    "class Participant:\n",
    "    def __init__(self):\n",
    "        self.points = 0\n",
    "        self.choice = \"\"\n",
    "\n",
    "# class GameRound:\n",
    "\n",
    "class Game:\n",
    "    def __init__(self):\n",
    "        self.endGame = False\n",
    "        self.participant = Participant()\n",
    "        self.secondParticipant = Participant()\n"
   ]
  },
  {
   "cell_type": "markdown",
   "metadata": {},
   "source": [
    "Start a game"
   ]
  },
  {
   "cell_type": "code",
   "execution_count": 15,
   "metadata": {},
   "outputs": [
    {
     "name": "stdout",
     "output_type": "stream",
     "text": [
      "Hasan selects rock\n",
      "Tareq selects paper\n"
     ]
    }
   ],
   "source": [
    "class Participants:\n",
    "    def __init__(self, name):\n",
    "        self.name = name\n",
    "        self.point = 0\n",
    "        self.choice = ''\n",
    "    def choose(self):\n",
    "        self.choice = input (\"{name}, select rock, paper or scissor: \".format(name= self.name))\n",
    "        print('{name} selects {choice}'.format(name = self.name, choice = self.choice))\n",
    "\n",
    "class GameRound:\n",
    "    def __init__(self, p1, p2):\n",
    "        p1.choose()\n",
    "        p2.choose()\n",
    "    def compareChoices(self):\n",
    "        print('implement')\n",
    "    def awardPoints(self):\n",
    "        print('implement')\n",
    "\n",
    "class Game:\n",
    "    def __init__(self):\n",
    "        self.endgame = False\n",
    "        self.participant = Participants('Hasan')\n",
    "        self.secondParticipant = Participants('Tareq')\n",
    "\n",
    "    def start(self):\n",
    "        game_round = GameRound(self.participant, self.secondParticipant)\n",
    "\n",
    "    def checkEndCondition(self):\n",
    "        print('implement')\n",
    "    def determineWinner(self):\n",
    "        print('implement')\n",
    "\n",
    "game = Game()\n",
    "game.start()\n"
   ]
  },
  {
   "attachments": {
    "image.png": {
     "image/png": "[encoded data removed]"
    }
   },
   "cell_type": "markdown",
   "metadata": {},
   "source": [
    "![image.png](attachment:image.png)"
   ]
  },
  {
   "attachments": {
    "image.png": {
     "image/png": "[encoded data removed]"
    }
   },
   "cell_type": "markdown",
   "metadata": {},
   "source": [
    "Implement rules<br>\n",
    "<br>\n",
    "From the problem description, you read that certain choices beat other choices. For example, rock beats scissors, scissors beats paper, and so on. It's tempting to write code with if/else statements. <br>\n",
    "It results in a substantial amount of code written and becomes a bit unwieldy. What if the game needs to expand its rule set, which might make the code even harder to maintain? <br>\n",
    "<br>\n",
    "Fortunately, there's a better way. A better approach is to think about the rules as a matrix. The idea of using a matrix is to express what combination wins over other combinations. A winning move gets a 1, a draw gets a 0, and a losing move gets a -1. The following matrix is for rock, paper, scissors:<br>\n",
    "\n",
    "![image.png](attachment:image.png)\n",
    "<br>\n",
    "we can implement the preceding table in Python by using a multidimensional array, like so:"
   ]
  },
  {
   "cell_type": "code",
   "execution_count": 18,
   "metadata": {},
   "outputs": [
    {
     "data": {
      "text/plain": [
       "-1"
      ]
     },
     "execution_count": 18,
     "metadata": {},
     "output_type": "execute_result"
    }
   ],
   "source": [
    "rules = [\n",
    "    [0, -1, 1],\n",
    "    [1, 0, -1],\n",
    "    [-1, 1, 0]\n",
    "]\n",
    "\n",
    "rules[0][1] # Rock vs Paper = -1, Paper wins over Rock\n"
   ]
  },
  {
   "cell_type": "code",
   "execution_count": 22,
   "metadata": {},
   "outputs": [],
   "source": [
    "# Locate the Participant class and add the method toNumericalChoice():\n",
    "# Locate the GameRound class, and update the compareChoices() method:\n",
    "# In the same class, add the method getResultAsString():\n",
    "\n",
    "# Score the game\n",
    "# Locate the Participant class, and add the method incrementPoint():\n",
    "# Locate the GameRound class, and add the following code to the end of the __init()__ method:\n",
    "\n",
    "# Add a continuation query\n",
    "#  A continuation query is a question at the end of the game round asking the player if they want to continue. \n",
    "# If the user chooses not to continue, it can output the current results and the winner, if any.\n",
    "# Locate the Game class, and update the method determineWinner():\n",
    "# In the same class, update the method checkEndCondition():\n",
    "# In the same class, replace the code for the start() method with this code:\n",
    "\n"
   ]
  },
  {
   "cell_type": "code",
   "execution_count": 5,
   "metadata": {},
   "outputs": [
    {
     "name": "stdout",
     "output_type": "stream",
     "text": [
      "Hasan selects paper\n",
      "Tareq selects rock\n",
      "Hasan selects paper\n",
      "Tareq selects scissor\n",
      "Game ended, Hasan has 1, and Tareq has 1\n",
      "It's a Draw!\n"
     ]
    }
   ],
   "source": [
    "class Participants:\n",
    "    def __init__(self, name):\n",
    "        self.name = name\n",
    "        self.point = 0\n",
    "        self.choice = ''\n",
    "\n",
    "    def choose(self):\n",
    "        self.choice = input (\"{name}, select rock, paper or scissor: \".format(name= self.name))\n",
    "        print('{name} selects {choice}'.format(name = self.name, choice = self.choice))\n",
    "    \n",
    "    def toNumericChoice(self):\n",
    "        switcher = {\n",
    "            'rock': 0,\n",
    "            'paper': 1,\n",
    "            'scissor': 2\n",
    "        }\n",
    "        return switcher[self.choice]\n",
    "\n",
    "    def incrementPoint(self):\n",
    "        self.point +=1\n",
    "\n",
    "class GameRound:\n",
    "    def __init__(self, p1, p2):\n",
    "        self.rules = [\n",
    "            [0, -1, 1],\n",
    "            [1, 0, -1],\n",
    "            [-1, 1, 0]\n",
    "        ]\n",
    "        p1.choose()\n",
    "        p2.choose()\n",
    "\n",
    "        result = self.compareChoices(p1, p2)\n",
    "\n",
    "        if result > 0:\n",
    "            p1.incrementPoint()\n",
    "        elif result < 0:\n",
    "            p2.incrementPoint()\n",
    "    \n",
    "    def compareChoices(self, p1, p2):\n",
    "        return self.rules[p1.toNumericChoice()][p2.toNumericChoice()]\n",
    "    \n",
    "    def getResultAsString(self, result):\n",
    "        res = {\n",
    "            0: 'draw',\n",
    "            1: 'win',\n",
    "            -1: 'loss'\n",
    "        }\n",
    "        return res[result]\n",
    "\n",
    "\n",
    "        print('implement')\n",
    "    def awardPoints(self):\n",
    "        print('implement')\n",
    "\n",
    "class Game:\n",
    "    def __init__(self):\n",
    "        self.endGame = False\n",
    "        self.participant = Participants('Hasan')\n",
    "        self.secondParticipant = Participants('Tareq')\n",
    "\n",
    "    def start(self):\n",
    "        while not self.endGame:\n",
    "            GameRound(self.participant, self.secondParticipant)\n",
    "            self.checkEndCondition()\n",
    "\n",
    "    def checkEndCondition(self):\n",
    "        answer = input(\"Continue game y/n: \")\n",
    "        if answer == 'y':\n",
    "            GameRound(self.participant, self.secondParticipant)\n",
    "            self.checkEndCondition()\n",
    "        else:\n",
    "            print(\"Game ended, {p1name} has {p1points}, and {p2name} has {p2points}\".format(p1name = self.participant.name, p1points= self.participant.point, p2name=self.secondParticipant.name, p2points=self.secondParticipant.point))\n",
    "            self.determineWinner()\n",
    "            self.endGame = True\n",
    "\n",
    "    def determineWinner(self):\n",
    "        resultString = \"It's a Draw!\"\n",
    "        if self.participant.point > self.secondParticipant.point:\n",
    "            resultString = \"Winner is {name}\".format(name=self.participant.name)\n",
    "        elif self.participant.point < self.secondParticipant.point:\n",
    "            resultString = \"winner is {name}\".format(name = self.secondParticipant.name)\n",
    "        print(resultString)\n",
    "\n",
    "game = Game()\n",
    "game.start()\n"
   ]
  }
 ],
 "metadata": {
  "kernelspec": {
   "display_name": "mslearn_py31106",
   "language": "python",
   "name": "python3"
  },
  "language_info": {
   "codemirror_mode": {
    "name": "ipython",
    "version": 3
   },
   "file_extension": ".py",
   "mimetype": "text/x-python",
   "name": "python",
   "nbconvert_exporter": "python",
   "pygments_lexer": "ipython3",
   "version": "3.11.6"
  }
 },
 "nbformat": 4,
 "nbformat_minor": 2
}
