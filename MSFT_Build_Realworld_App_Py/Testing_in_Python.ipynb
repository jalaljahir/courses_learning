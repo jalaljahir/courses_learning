{
 "cells": [
  {
   "cell_type": "markdown",
   "metadata": {},
   "source": [
    "##  Get started with testing in Python\n",
    "https://learn.microsoft.com/en-us/training/modules/python-get-started-testing/"
   ]
  },
  {
   "cell_type": "markdown",
   "metadata": {},
   "source": [
    "### Introduction\n",
    "https://learn.microsoft.com/en-us/training/modules/python-get-started-testing/1-introduction"
   ]
  },
  {
   "cell_type": "markdown",
   "metadata": {},
   "source": [
    "### Understand Python testing with the unittest module\n",
    "https://learn.microsoft.com/en-us/training/modules/python-get-started-testing/2-python-unittest"
   ]
  },
  {
   "cell_type": "code",
   "execution_count": 3,
   "metadata": {},
   "outputs": [],
   "source": [
    "# import unittest\n",
    "\n",
    "# class TestAssertions(unittest.TestCase):\n",
    "\n",
    "#     def test_equals(self):\n",
    "#         self.assertEqual('one string', 'one string')\n",
    "\n",
    "# if __name__ == '__main__':\n",
    "#     unittest.main()\n"
   ]
  },
  {
   "cell_type": "markdown",
   "metadata": {},
   "source": [
    "#### Run Tests"
   ]
  },
  {
   "cell_type": "markdown",
   "metadata": {},
   "source": [
    "There are two ways to run a test file. Let's look again at the end of the test_assertions.py file, where the unittest.main() call allows running the tests by executing the file with Python: <br>\n",
    "if __name__ == '__main__':\n",
    "    unittest.main()\n",
    "<br>\n",
    "The test run is possible because of the if block at the end, where the condition is only met when running the script directly with Python. Let's check the output when running it in that way:<br>\n",
    "$ python test_assertions.py <br>\n",
    "\n",
    "Another way to run tests with the unittest module is by using it with the Python executable. This time, it isn't necessary to specify the filename because tests can be discovered automatically:<br>\n",
    "\n",
    "$ python -m unittest\n",
    "\n",
    "\n"
   ]
  },
  {
   "cell_type": "markdown",
   "metadata": {},
   "source": [
    "#### Naming Convention\n",
    "The class and method names follow a test convention. The convention is that they need to be prefixed with test. Although it isn't required, test classes use camel-casing, and test methods are lower-case, and words are separated with an underscore. For example, here's how a test for customer accounts that verify creation and deletion could look:"
   ]
  },
  {
   "cell_type": "code",
   "execution_count": 4,
   "metadata": {},
   "outputs": [],
   "source": [
    "# class TestAccounts(unittest.TestCase):\n",
    "\n",
    "#     def test_creation(self):\n",
    "#         self.assertTrue(account.create())\n",
    "\n",
    "#     def test_deletion(self):\n",
    "#         self.assertTrue(account.delete())\n"
   ]
  },
  {
   "cell_type": "markdown",
   "metadata": {},
   "source": [
    "Test classes or methods that don't follow these conventions won't get run. Although it might seem like a problem not to run every single method in a class, it can be helpful when creating non-test code."
   ]
  },
  {
   "cell_type": "markdown",
   "metadata": {},
   "source": [
    "#### Assertions and assert methods\n",
    "It's essential to use assert methods instead of Python's built-in assert() function to have rich reporting when failures happen. The test_assertion.py example uses self.assertEqual(), one of the many special methods from the unittest.TestCase class to ensure that two values are equal:"
   ]
  },
  {
   "cell_type": "code",
   "execution_count": 6,
   "metadata": {},
   "outputs": [],
   "source": [
    "# self.assertEqual(\"one string\", \"one string\")\n"
   ]
  },
  {
   "cell_type": "markdown",
   "metadata": {},
   "source": [
    "In this case, both strings are equal, so the test passes. Testing for equality is one of the many different assertions that the unittest.TestCase class offers. Although there are more than 30 assert methods, the following are most commonly used aside from self.assertEqual():\n",
    "\n",
    "self.assertTrue(value): Ensure that value is true. <br>\n",
    "self.assertFalse(value): Ensure that value is false.<br>\n",
    "self.assertNotEqual(a, b): Check that a and b aren't equal.<br>"
   ]
  },
  {
   "cell_type": "markdown",
   "metadata": {},
   "source": [
    "#### Failures and reporting"
   ]
  }
 ],
 "metadata": {
  "kernelspec": {
   "display_name": "mslearn_py31106",
   "language": "python",
   "name": "python3"
  },
  "language_info": {
   "codemirror_mode": {
    "name": "ipython",
    "version": 3
   },
   "file_extension": ".py",
   "mimetype": "text/x-python",
   "name": "python",
   "nbconvert_exporter": "python",
   "pygments_lexer": "ipython3",
   "version": "3.11.6"
  }
 },
 "nbformat": 4,
 "nbformat_minor": 2
}
